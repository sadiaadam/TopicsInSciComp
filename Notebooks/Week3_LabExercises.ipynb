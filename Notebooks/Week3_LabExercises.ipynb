{
 "cells": [
  {
   "cell_type": "markdown",
   "id": "8677fe39",
   "metadata": {},
   "source": [
    "## Week 3 Lab exercises\n",
    "\n",
    "In this week we will explore the concept of object oreinted programming (OOP) with classes, and the numerical solution of simple non linear ordinary differential equations (ODEs). "
   ]
  },
  {
   "cell_type": "code",
   "execution_count": 1,
   "id": "0d8bde64",
   "metadata": {},
   "outputs": [],
   "source": [
    "# first we import the libraries we need\n",
    "import numpy as np\n",
    "import matplotlib.pyplot as plt\n",
    "\n",
    "# The following lines makes the plots appear inline in the notebook\n",
    "%matplotlib inline"
   ]
  },
  {
   "cell_type": "markdown",
   "id": "2b399aad",
   "metadata": {},
   "source": [
    "### ACTIVITY 1: \n",
    "I have written a class below for a Point object, which encapsulates the idea of a point and things we might want to do to it. \n",
    "\n",
    "Here you will write another class object for a Rectangle. You should consider and implement the following points:\n",
    "\n",
    "1. What is the minimum information that is needed to fully describe a rectangle and its position in space? Assume for simplicity that its edges are aligned with the x and y axes.\n",
    "\n",
    "2. Implement functions to:\n",
    "\n",
    "    a. reflect the rectangle in the x and y axes\n",
    "    \n",
    "    b. grow the rectangle by an amount in x and y with the bottom left corner fixed\n",
    "    \n",
    "    c. grow the rectangle by an amount in x and y with the top right corner fixed\n",
    "    \n",
    "    d. plot the rectangle\n",
    "\n",
    "\n",
    "3. What should be checked here? Can you add some asserts? Do you need to test the functions?\n",
    "\n",
    "4. Would some of the methods needed make more sense to be implemented in the Points class instead of the Rectangle class? If so go ahead and edit it!"
   ]
  },
  {
   "cell_type": "code",
   "execution_count": null,
   "id": "2bceae51",
   "metadata": {},
   "outputs": [],
   "source": [
    "# Points class\n",
    "\n",
    "class Point :\n",
    "    \"\"\"\n",
    "    Represents a point in a 2D space\n",
    "    \n",
    "    attributes: x, y, name\n",
    "    \n",
    "    \"\"\"\n",
    "    \n",
    "    # constructor function\n",
    "    # The double underscores indicate a private method or variable\n",
    "    # not to be accessed outside the class (in principle)\n",
    "    def __init__(self, x=0.0, y=0.0, name = \"\"):\n",
    "        self.x = x\n",
    "        self.y = y\n",
    "        self.name = name\n",
    "        self.__private_variable = 42\n",
    "        \n",
    "    def __add__(self, other) :\n",
    "        new_point = Point(self.x+other.x, self.y+other.y)\n",
    "        return new_point\n",
    "    \n",
    "    def print_point(self) :\n",
    "        print(\"Point \", self.name, \"is\", self.x, self.y)\n",
    "        \n",
    "    # Note that we don't use self here so don't need to pass it in\n",
    "    # (This is a static function - it does not require an instance of the class)\n",
    "    def calculate_distance_between_two_points(A, B) :\n",
    "        return np.sqrt((A.x - B.x)**2.0 + (A.y - B.y)**2.0)\n",
    "    \n",
    "    def move_point(self,dx,dy) :\n",
    "        self.x += dx\n",
    "        self.y += dy\n",
    "        \n",
    "    def plot_point(self, ax) :\n",
    "        ax.plot(self.x, self.y, 'o', label=self.name)\n",
    "        \n",
    "    def update_name(self, new_name) :\n",
    "        self.name = new_name\n",
    "        \n",
    "        \n",
    "# Some examples of using the Points class\n",
    "first_point = Point(1.0,2.0,\"P\")\n",
    "first_point.print_point()\n",
    "\n",
    "second_point = Point(3.0,5.5,\"Q\")\n",
    "second_point.move_point(1.0, 2.0)\n",
    "second_point.print_point()\n",
    "\n",
    "third_point = first_point + second_point\n",
    "third_point.update_name(\"R\")\n",
    "third_point.print_point()\n",
    "\n",
    "# Use the static function\n",
    "distance = Point.calculate_distance_between_two_points(first_point,second_point)\n",
    "print(\"Distance is \", distance)\n",
    "\n",
    "plt.plot()\n",
    "plt.grid()\n",
    "plt.xlabel(\"x position\")\n",
    "plt.ylabel(\"y position\")\n",
    "ax = plt.gcf().gca()\n",
    "first_point.plot_point(ax)\n",
    "second_point.plot_point(ax)\n",
    "third_point.plot_point(ax)\n",
    "plt.legend()\n",
    "\n",
    "\n",
    "#print(first_point.__private_variable) # This won't work - try uncommenting it\n",
    "print(first_point._Point__private_variable) # This will\n",
    "\n",
    "# Can get info on the new class - uncomment to see this\n",
    "# Point?\n",
    "\n",
    "#def count_vowels(word):\n",
    " #   \"\"\"TODO\"\"\"\n",
    "  #  num_vowels = -1\n",
    "   # return num_vowels\n",
    "\n",
    "\n",
    "#assert count_vowels(\"hello\") == 2\n",
    "#assert count_vowels(\"why\") == 0\n",
    "#assert count_vowels(\"\") == 0\n",
    "#assert count_vowels(\"ooo\") == 3\n",
    "#assert count_vowels(\" \") == 0\n",
    "\n",
    "\n",
    "    \n"
   ]
  },
  {
   "cell_type": "code",
   "execution_count": null,
   "id": "a27f792e-240e-4513-b5f8-4e9a99fadee8",
   "metadata": {},
   "outputs": [],
   "source": [
    "class Rectangle_By_A_Tutor:\n",
    "\n",
    "    def __init__(self, bottom_left_corner = [0,0], width, height):\n",
    "        self.bottom_left_corner = self.bottom_left_corner\n",
    "        self.width = width\n",
    "        self.height = height\n",
    "\n",
    "    def reflect_in_x_axis():\n",
    "        self.bottom_left_corner = -self.bottom_left_corner\n",
    "        return self\n",
    "\n",
    "    def stretch_with_fixed_bottom_left(amount):\n",
    "        self.width = amount*self.width\n",
    "        self.height = amount*self.height\n",
    "        return self\n",
    "\n",
    "    def plot():\n",
    "        \"\"\"simply use height and width to find the other 3 corners\"\"\"\n",
    "\n",
    "    def stretch_with_fixed_top_right(amount):\n",
    "\n",
    "        new_width = amount*self.width\n",
    "        new_height = amount*self.height\n",
    "        self.bottom_left_corner = [self.bottom_left_corner[0] - (new_width-self.width), self.bottom_left_corner[1] - (new_height-self.height)]\n",
    "        self.width = new_width\n",
    "        self.height = new_height\n",
    "        return self \n",
    "\n",
    "        \n"
   ]
  },
  {
   "cell_type": "code",
   "execution_count": null,
   "id": "0c6bb38e",
   "metadata": {},
   "outputs": [],
   "source": [
    "# Rectangle class\n",
    "class Rectangle :\n",
    "    #Note; these have no tests because im tired and cranky\n",
    "    \n",
    "    #constructor method\n",
    "    def __init__(self, north_west_point=[-1,1], south_west_point=[-1,-1], north_east_point=[1,1], south_east_point=[1,-1]) :\n",
    "\n",
    "        self.north_west_point = north_west_point\n",
    "        self.south_west_point = south_west_point\n",
    "        self.north_east_point = north_east_point\n",
    "        self.south_east_point = south_east_point\n",
    "        \n",
    "    def reflect_on_x(self):\n",
    "        for point in [self.north_west_point,self.south_west_point,self.north_east_point,self.south_east_point]:\n",
    "            point[1] = -(point[1])\n",
    "        a = self.north_west_point\n",
    "        b = self.north_east_point\n",
    "        c = self.south_west_point\n",
    "        d = self.south_east_point\n",
    "        self.north_east_point = d\n",
    "        self.north_west_point = c\n",
    "        self.south_east_point = b\n",
    "        self.south_west_point = a\n",
    "        return self\n",
    "\n",
    "    def increase_south_west(self,x):\n",
    "        height = self.north_west_point[1] - self.south_west_point[1]\n",
    "        width = self.north_east_point[0] - self.north_west_point[0]\n",
    "        self.north_west_point[1] = self.south_west_point[1] + x*height\n",
    "        self.north_east_point[1] = self.south_west_point[1] + x*height\n",
    "        self.north_east_point[0] = self.south_west_point[0] + x*width\n",
    "        self.south_east_point[0] = self.south_west_point[0] + x*width\n",
    "        return self\n",
    "\n",
    "    def plot_rectangle(self):\n",
    "        for y_index in [self.north_west_point[1], self.south_west_point[1]]:\n",
    "            plt.hlines(y_index,self.north_west_point[0],self.north_east_point[0])\n",
    "        for x_index in [self.north_west_point[0], self.south_east_point[0]]:\n",
    "            plt.vlines(x_index,self.north_west_point[1],self.south_east_point[1])\n",
    "        plt.show()\n",
    "\n",
    "    def print(self) :\n",
    "        print(self.south_west_point)\n",
    "\n",
    "# UPDATE ME!"
   ]
  },
  {
   "cell_type": "code",
   "execution_count": null,
   "id": "4bc50eca-2f53-47b1-81c6-93f5c6111ef4",
   "metadata": {},
   "outputs": [],
   "source": [
    "myrec=Rectangle()\n",
    "myrec.plot_rectangle()\n",
    "myrec.print()\n",
    "# UPDATE ME!"
   ]
  },
  {
   "cell_type": "markdown",
   "id": "03a04402",
   "metadata": {},
   "source": [
    "### ACTIVITY 2: \n",
    "\n",
    "Now create a Square class that has the same functionality as the rectangle class, but that in addition has the ability to calculate its own area. You are not allowed to modify the Rectangle class.\n",
    "\n",
    "_HINT: Do you really need to write a whole new function from scratch? What about inheritance?_\n"
   ]
  },
  {
   "cell_type": "code",
   "execution_count": null,
   "id": "dc06a2ad",
   "metadata": {},
   "outputs": [],
   "source": [
    "# Square class\n",
    "class Square(Rectangle):\n",
    "    def __init__(self, north_west_point=[-1,1], south_west_point=[-1,-1], north_east_point=[1,1], south_east_point=[1,-1]) :\n",
    "        self.north_west_point = north_west_point\n",
    "        self.south_west_point = south_west_point\n",
    "        self.north_east_point = north_east_point\n",
    "        self.south_east_point = south_east_point\n",
    "\n",
    "    def calculate_area(self):\n",
    "        height = self.north_west_point[1] - self.south_west_point[1]\n",
    "        width = self.north_east_point[0] - self.north_west_point[0]\n",
    "        area= height*width\n",
    "        return area\n",
    "\n",
    "\n",
    "\n",
    "# UPDATE ME"
   ]
  },
  {
   "cell_type": "code",
   "execution_count": null,
   "id": "96db5492-7f6b-480e-bcee-ad4b52b315f3",
   "metadata": {},
   "outputs": [],
   "source": [
    "mysquare=Square()\n",
    "print(mysquare.calculate_area())"
   ]
  },
  {
   "cell_type": "markdown",
   "id": "14b33155",
   "metadata": {},
   "source": [
    "### ACTIVITY 3:\n",
    "\n",
    "Now we wil consider a simpled coupled ODEs: the Lotka-Volterra equations describe predator-prey relations, where some species $x$ (e.g. a fox) eats another species $y$ (e.g. rabbits), and each population grows by breeding at a rate proportional to its number. The resulting evolution is described by the following first order, autonomous, non linear, coupled system of ordinary differential equations:\n",
    "\n",
    "$\\frac{dx}{dt} = ax - bxy$\n",
    "\n",
    "$\\frac{dy}{dt} = -cy + dxy$\n",
    "\n",
    "What parts or features of the differential equation tell us that it is:\n",
    "1. First order\n",
    "2. Autonomous\n",
    "3. Non linear\n",
    "4. Coupled \n",
    "\n",
    "?"
   ]
  },
  {
   "cell_type": "code",
   "execution_count": null,
   "id": "68e49c8c-6430-4f2b-8057-bb75d19cfcb4",
   "metadata": {},
   "outputs": [],
   "source": [
    "#Because the highest derivative is 1\n",
    "#None of the equations other then the derivatives depend on t\n",
    "#The coefficients of x and y arent constants\n",
    "#"
   ]
  },
  {
   "cell_type": "markdown",
   "id": "bf508678",
   "metadata": {},
   "source": [
    "Answers: ... UPDATE ME!"
   ]
  },
  {
   "cell_type": "markdown",
   "id": "d787ce7d",
   "metadata": {},
   "source": [
    "### ACTIVITY 4:\n",
    "\n",
    "The following code solves the Logistic Equation \n",
    "\n",
    "$\\frac{dy}{dt} = y (1 - y)$\n",
    "\n",
    "Using a simple explicit integration and the scipy function solve_ivp() which used Runge-Kutta 4th/5th order time integration. Copy it and update it to solve instead the Lotka-Volterra equations. \n",
    "\n",
    "Note the following:\n",
    "\n",
    "1. Why do I substract delta_t when calculating the vector of t_solution points?\n",
    "2. the solve_ivp method uses the labels t and y for the independent and dependent variables. The y value is assumed to be a vector, allowing you to solve for multiple dependent variables at once, e.g. you can make it np.array([x,y])"
   ]
  },
  {
   "cell_type": "code",
   "execution_count": 20,
   "id": "723be110-b6f2-448b-9e68-4542c4e95e9c",
   "metadata": {},
   "outputs": [
    {
     "name": "stdout",
     "output_type": "stream",
     "text": [
      "[[                   2                    2]\n",
      " [                  -2                    7]\n",
      " [                  18                  -29]\n",
      " [                 867                -1038]\n",
      " [             1441474             -1799684]\n",
      " [       4150718905398       -5188395028495]\n",
      " [ 1559916762619148288  1739463238264517888]\n",
      " [  598554843976606848  4258400920640376832]\n",
      " [ 1336131339514305536  2514252855168318464]\n",
      " [  834805367823862784  5149287047835604992]\n",
      " [  456362719607146688  7656698898011457536]\n",
      " [ 3263551148321309184  6484083848337883136]\n",
      " [ 2743118592635654144  8151298295373666304]\n",
      " [ 4343432258996716544  4646490072722458624]\n",
      " [ 7299396278500810752  3408528034814017024]\n",
      " [ 5577544639064577024  1391307591349479168]\n",
      " [ 2552782705466915840 -1987810906433974016]\n",
      " [ 5051134260592713728 -3861943371895447040]\n",
      " [ 3801794348807882240 -1838174212151933440]\n",
      " [ 2759755468877440000 -1906719838332498944]\n",
      " [ 4662032933676945408 -1081421801826396288]\n",
      " [ 1122531567188378112  1923996372669112832]\n",
      " [ -405120927331292672   802623503433188864]\n",
      " [-2272600415226157824  3613378139221606400]\n",
      " [ 1304203781155105024  5446439563049628672]]\n"
     ]
    },
    {
     "name": "stderr",
     "output_type": "stream",
     "text": [
      "C:\\Users\\user\\AppData\\Local\\Temp\\ipykernel_33896\\2098345700.py:10: RuntimeWarning: overflow encountered in scalar multiply\n",
      "  ddt[0] = 2*x_value - 4*x_value*y_value\n",
      "C:\\Users\\user\\AppData\\Local\\Temp\\ipykernel_33896\\2098345700.py:11: RuntimeWarning: overflow encountered in scalar multiply\n",
      "  ddt[1] = -3*y_value + 5*x_value*y_value\n",
      "C:\\Users\\user\\AppData\\Local\\Temp\\ipykernel_33896\\2098345700.py:11: RuntimeWarning: overflow encountered in scalar add\n",
      "  ddt[1] = -3*y_value + 5*x_value*y_value\n",
      "C:\\Users\\user\\AppData\\Local\\Temp\\ipykernel_33896\\2098345700.py:10: RuntimeWarning: overflow encountered in scalar subtract\n",
      "  ddt[0] = 2*x_value - 4*x_value*y_value\n"
     ]
    },
    {
     "data": {
      "text/plain": [
       "[<matplotlib.lines.Line2D at 0x1e80d43c560>,\n",
       " <matplotlib.lines.Line2D at 0x1e80d43c620>]"
      ]
     },
     "execution_count": 20,
     "metadata": {},
     "output_type": "execute_result"
    },
    {
     "data": {
      "image/png": "[encoded data removed]",
      "text/plain": [
       "<Figure size 640x480 with 1 Axes>"
      ]
     },
     "metadata": {},
     "output_type": "display_data"
    }
   ],
   "source": [
    "#THE SOLUTION\n",
    "from scipy.integrate import solve_ivp\n",
    "\n",
    "# Note that the function has to take t as the first argument and y as the second\n",
    "def calculate_animal_dydt(t, y):\n",
    "    \"\"\"Returns the gradient dx/dt for the logistic equation\"\"\"\n",
    "    ddt = np.zeros_like(y)\n",
    "    x_value = y[0]\n",
    "    y_value = y[1]\n",
    "    ddt[0] = 2*x_value - 4*x_value*y_value\n",
    "    ddt[1] = -3*y_value + 5*x_value*y_value\n",
    "    return ddt\n",
    "\n",
    "max_time = 10.0\n",
    "N_time_steps = 25\n",
    "delta_t = max_time / N_time_steps\n",
    "t_solution = np.linspace(0.0, max_time-delta_t, N_time_steps) # values of independent variable \n",
    "y0 = np.array([2,2]) # an initial condition, y(0) = y0, note it needs to be an array\n",
    "\n",
    "solution = solve_ivp(calculate_animal_dydt, [0,max_time], y0,method='RK45', t_eval=t_solution)\n",
    " \n",
    "plt.grid()\n",
    "plt.xlabel(\"t\", fontsize=16)\n",
    "plt.ylabel(\"y\", fontsize=16) \n",
    "plt.plot(solution.t, solution.y[0], '-', label=\"solve_ivp\")\n",
    "plt.plot(solution.t, solution.y[1], '-', label=\"solve_ivp\")\n",
    "plt.grid\n",
    "\n",
    "# Now do it the \"cheap\" way \n",
    "# increase the number of steps to see how the solution changes\n",
    "#y_solution = np.zeros_like(t_solution)\n",
    "#y_solution[0] = y0\n",
    "#for itime, time in enumerate(t_solution) :\n",
    "    #if itime > 0 :\n",
    "        #dydt = calculate_animal_dydt(time, y_solution[itime-1])\n",
    "        #y_solution[itime] = y_solution[itime-1] + dydt * delta_t\n",
    "\n",
    "#I'm gonna be real with yall, idk how to makw this work with an array\n",
    "y_shape = np.arange(2*N_time_steps)\n",
    "y_solution = np.zeros_like(y_shape.reshape((N_time_steps,2)))\n",
    "y_solution[0] = y0\n",
    "for itime, time in enumerate(t_solution) :\n",
    "    if itime > 0 :\n",
    "        dydt = calculate_animal_dydt(time, y_solution[itime-1])\n",
    "        y_solution[itime] = y_solution[itime-1] + dydt * delta_t\n",
    "print(y_solution)\n",
    "plt.plot(t_solution, y_solution, '-.',label=\"cheap method\")\n",
    "\n",
    "# Now plot the true solution\n",
    "#A = 1.0/y0 - 1.0\n",
    "#y_true = 1.0 / (1.0 + A * np.exp(-t_solution))\n",
    "#plt.plot(t_solution, y_true, '-', label=\"true solution\")\n",
    "#plt.legend(loc='best');"
   ]
  },
  {
   "cell_type": "code",
   "execution_count": 47,
   "id": "2f5fb331",
   "metadata": {},
   "outputs": [
    {
     "name": "stderr",
     "output_type": "stream",
     "text": [
      "C:\\Users\\user\\AppData\\Local\\Temp\\ipykernel_24096\\2937276196.py:27: DeprecationWarning: Conversion of an array with ndim > 0 to a scalar is deprecated, and will error in future. Ensure you extract a single element from your array before performing this operation. (Deprecated NumPy 1.25.)\n",
      "  y_solution[0] = y0\n"
     ]
    },
    {
     "data": {
      "image/png": "[encoded data removed]",
      "text/plain": [
       "<Figure size 640x480 with 1 Axes>"
      ]
     },
     "metadata": {},
     "output_type": "display_data"
    }
   ],
   "source": [
    "# Solve the 1d logistic equation from class\n",
    "from scipy.integrate import solve_ivp\n",
    "\n",
    "# Note that the function has to take t as the first argument and y as the second\n",
    "def calculate_logistic_dydt(t, y):\n",
    "    \"\"\"Returns the gradient dx/dt for the logistic equation\"\"\"\n",
    "    dydt = y*(1 - y)\n",
    "    return dydt\n",
    "\n",
    "max_time = 10.0\n",
    "N_time_steps = 25\n",
    "delta_t = max_time / N_time_steps\n",
    "t_solution = np.linspace(0.0, max_time-delta_t, N_time_steps) # values of independent variable \n",
    "y0 = np.array([0.5]) # an initial condition, y(0) = y0, note it needs to be an array\n",
    "\n",
    "solution = solve_ivp(calculate_logistic_dydt, [0,max_time], y0,\n",
    "                        method='RK45', t_eval=t_solution)\n",
    " \n",
    "plt.grid()\n",
    "plt.xlabel(\"t\", fontsize=16)\n",
    "plt.ylabel(\"y\", fontsize=16) \n",
    "plt.plot(solution.t, solution.y[0], 'o', label=\"solve_ivp\")\n",
    "\n",
    "# Now do it the \"cheap\" way \n",
    "# increase the number of steps to see how the solution changes\n",
    "y_solution = np.zeros_like(t_solution)\n",
    "y_solution[0] = y0\n",
    "for itime, time in enumerate(t_solution) :\n",
    "    if itime > 0 :\n",
    "        dydt = calculate_logistic_dydt(time, y_solution[itime-1])\n",
    "        y_solution[itime] = y_solution[itime-1] + dydt * delta_t\n",
    "    \n",
    "plt.plot(t_solution, y_solution, '-.',label=\"cheap method\")\n",
    "\n",
    "# Now plot the true solution\n",
    "A = 1.0/y0 - 1.0\n",
    "y_true = 1.0 / (1.0 + A * np.exp(-t_solution))\n",
    "plt.plot(t_solution, y_true, '-', label=\"true solution\")\n",
    "plt.legend(loc='best');"
   ]
  },
  {
   "cell_type": "markdown",
   "id": "fc8f692b",
   "metadata": {},
   "source": [
    "### ACTIVITY 5:\n",
    "\n",
    "Find the equilibrium value of rabbits and foxes such that you do not get oscillations.\n",
    "\n",
    "_HINT: You can do this by trying different initial values of the rabbits and foxes, but it may help to also plot the solutions of x versus y for different values of the initial conditions and identify if there is a trend_"
   ]
  },
  {
   "cell_type": "code",
   "execution_count": 10,
   "id": "2478e15e",
   "metadata": {},
   "outputs": [
    {
     "data": {
      "text/plain": [
       "[<matplotlib.lines.Line2D at 0x1e80bc17aa0>]"
      ]
     },
     "execution_count": 10,
     "metadata": {},
     "output_type": "execute_result"
    },
    {
     "data": {
      "image/png": "[encoded data removed]",
      "text/plain": [
       "<Figure size 640x480 with 1 Axes>"
      ]
     },
     "metadata": {},
     "output_type": "display_data"
    }
   ],
   "source": [
    "# Plot some solutions of x versus y\n",
    "\n",
    "#THE SOLUTION\n",
    "from scipy.integrate import solve_ivp\n",
    "\n",
    "# Note that the function has to take t as the first argument and y as the second\n",
    "def calculate_animal_dydt(t, y):\n",
    "    \"\"\"Returns the gradient dx/dt for the logistic equation\"\"\"\n",
    "    ddt = np.zeros_like(y)\n",
    "    x_value = y[0]\n",
    "    y_value = y[1]\n",
    "    ddt[0] = 1*x_value - 2*x_value*y_value\n",
    "    ddt[1] = -1*y_value + 2*x_value*y_value\n",
    "    return ddt\n",
    "\n",
    "max_time = 10.0\n",
    "N_time_steps = 25\n",
    "delta_t = max_time / N_time_steps\n",
    "t_solution = np.linspace(0.0, max_time-delta_t, N_time_steps) # values of independent variable \n",
    "y0 = np.array([.5,.5]) # an initial condition, y(0) = y0, note it needs to be an array\n",
    "\n",
    "solution = solve_ivp(calculate_animal_dydt, [0,max_time], y0, t_eval=t_solution)\n",
    " \n",
    "plt.grid()\n",
    "plt.xlabel(\"t\", fontsize=16)\n",
    "plt.ylabel(\"y\", fontsize=16) \n",
    "#plt.plot(solution.t, solution.y[0], '-', label=\"solve_ivp\")\n",
    "#plt.plot(solution.t, solution.y[1], '-', label=\"solve_ivp\")\n",
    "plt.grid\n",
    "\n",
    "# Now do it the \"cheap\" way \n",
    "# increase the number of steps to see how the solution changes\n",
    "#y_solution = np.zeros_like(t_solution)\n",
    "#y_solution[0] = y0\n",
    "#for itime, time in enumerate(t_solution) :\n",
    "    #if itime > 0 :\n",
    "        #dydt = calculate_animal_dydt(time, y_solution[itime-1])\n",
    "        #y_solution[itime] = y_solution[itime-1] + dydt * delta_t\n",
    "    \n",
    "#plt.plot(t_solution, y_solution, '-.',label=\"cheap method\")\n",
    "\n",
    "# Now plot the true solution\n",
    "#A = 1.0/y0 - 1.0\n",
    "#y_true = 1.0 / (1.0 + A * np.exp(-t_solution))\n",
    "#plt.plot(t_solution, y_true, '-', label=\"true solution\")\n",
    "#plt.legend(loc='best');\n",
    "\n",
    "# HINT: plt.plot(solution.y[0], solution.y[1], '--', label=\"x0, y0 = ??\")\n",
    "plt.plot(solution.y[0], solution.y[1], '--', label=\"x0, y0 = ??\")\n",
    "#THE EQUILIBRIUM VALUE IS .5,.5 WHICH I HONESTLY ONLY FIGURED OUT BY LOOKING AT HOW THE LINES WERE INTERSECTING"
   ]
  },
  {
   "cell_type": "markdown",
   "id": "610c8870",
   "metadata": {},
   "source": [
    "### ACTIVITY 6:\n",
    "\n",
    "If you double the resolution in the simple integrator, what happens to the error in the solution compared to solve_ivp? Why? How could you improve this behaviour?"
   ]
  },
  {
   "cell_type": "code",
   "execution_count": null,
   "id": "8c88c564",
   "metadata": {},
   "outputs": [],
   "source": [
    "# Compare the errors here\n",
    "\n",
    "# HINT: plt.plot(solution.t, solution.y[0] - y_solution, '--', label=\"error versus solve_ivp, dt = ??\")"
   ]
  },
  {
   "cell_type": "markdown",
   "id": "058d6f9b",
   "metadata": {},
   "source": [
    "### ACTIVITY 7:\n",
    "\n",
    "The predator - prey equations have been cast above in a _functional coding_ style. Can you imagine a way to cast them in a more OOP way?\n",
    "\n",
    "_HINT: There are several ways this could be done, but consider writing an Ecosystem class - what would be the attributes and methods that would live in such a class?_\n",
    "\n",
    "OPTIONAL: Implement it!"
   ]
  },
  {
   "cell_type": "markdown",
   "id": "2f40159e",
   "metadata": {},
   "source": [
    "A: UPDATE ME!"
   ]
  },
  {
   "cell_type": "code",
   "execution_count": null,
   "id": "70494bc6",
   "metadata": {},
   "outputs": [],
   "source": [
    "# Implementation of the Ecosystem class (OPTIONAL)\n"
   ]
  }
 ],
 "metadata": {
  "kernelspec": {
   "display_name": "Python 3 (ipykernel)",
   "language": "python",
   "name": "python3"
  },
  "language_info": {
   "codemirror_mode": {
    "name": "ipython",
    "version": 3
   },
   "file_extension": ".py",
   "mimetype": "text/x-python",
   "name": "python",
   "nbconvert_exporter": "python",
   "pygments_lexer": "ipython3",
   "version": "3.12.6"
  }
 },
 "nbformat": 4,
 "nbformat_minor": 5
}
