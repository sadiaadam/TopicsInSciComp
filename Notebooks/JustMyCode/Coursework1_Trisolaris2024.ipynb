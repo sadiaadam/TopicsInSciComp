{
 "cells": [
  {
   "cell_type": "markdown",
   "id": "5d8ec6bf",
   "metadata": {},
   "source": [
    "# MTH739 – Topics in Scientific Computing – Semester A 2024/25\n",
    "\n",
    "## Coursework 1 : Trisolaris: the three body problem\n",
    "\n",
    "## Section 1 : Instructions and important information\n",
    "\n",
    "### 1.1 Important information about this project assignment\n",
    "\n",
    "This is the assignment for the first coursework of MTH739 – Topics in Scientific Computing. This assignment is scored on a scale of 100, and will contribute 20% of your final mark.\n",
    "\n",
    "Please read carefully through the paragraphs below, since they contain very important information about the submission deadline, procedures, expectations, etc.\n",
    "\n",
    "### 1.2 Expectations\n",
    "\n",
    "The project consists of 3 problems, each containing a single goal with multiple component parts. You are expected and encouraged to attempt every problem in this assignment. Fractional marks may be awarded for meaningful partial solutions, for example, a description in words/pseudocode of what you would do in principle to solve the problem, or implement a test. It will always be better to write something rather than nothing, since you can only gain (you won't lose marks for wrong answers).\n",
    "\n",
    "You are expected to provide working Python code that answers each question, and to **accompany your code with appropriate documentation of the code appropriate for new users who have a basic familiarity with python and ODEs (your colleagues on this course, for example!)**. In particular, you should provide at least a brief text paragraph (using the markdown cells) that explains what you did, and you should use appropriate naming and include meaningful comments inside your code where necessary, to make it clear what the code does. Failing to provide comments and/or documentation will mean you cannot access the maximum mark. Marks will also be available for defensive programming techniques including asserts and tests of key functionality, where appropriate. You need to use your judgement for this - the code should prevent a slightly confused user from doing incorrect things or breaking code, and check that you implemented things correctly. \n",
    "\n",
    "The marks available for each section are indicated below. Broadly speaking, for each section, the marks available will be split as follows:\n",
    "\n",
    "   - 60% for working code that correctly implements all of the requested components\n",
    "   - 20% for use of defensive programming techniques - asserts and tests implemented to prevent user error and check the code is functioning correctly, including convergence testing.\n",
    "   - 10% for readability of code, following the agreed naming conventions of the course, appropriate commenting\n",
    "   - 10% for appropriate documentation of the code implemented in markdown format around the code.\n",
    "\n",
    "Please read all sections and each question carefully before attempting an answer. This will help you to avoid misinterpreting the questions and you may be able to make your code more flexible at an earlier stage in order to be able to use it more efficiently later on.\n",
    "\n",
    "You are mainly expected to develop your own code to solve the problems, even though python may already have a library function that performs the same task. Since the goal is to show that you understand the methods and how they are implemented, you should in general write your own code for an algorithm from scratch unless use of a specific function is indicated (obviously still using basic numpy, scipy and sympy functions like `np.sin()`, `np.array()`, `sp.symbol()` etc is fine!). As a general rule, I would recommend that you **do not use any functions outside of the sympy, numpy, matplotlib and scipy libraries**, as if you do you will very probably miss marks for showing how you implement the solution. This should be clear from the context but if you are in any doubt, **just ask**.\n",
    "\n",
    "### 1.3 Submission procedure\n",
    "\n",
    "You must use **this Jupyter Notebook** to develop your project, answer the questions, write the corresponding code, present the result in accordance to the requirements of each question, and include your comments and explanations.\n",
    "\n",
    "You are not allowed to remove any cell from the present notebook. However, you can add as many text or code cells as needed.\n",
    "You are expected to submit this Jupyter Notebook filled in with all your code, answers, comments, and nothing else. Please **do not rename this file** - all the submissions are automatically associated to your QMPlus Student ID and so you do not need to add any identifier. Note that you cannot submit any additional file.\n",
    "\n",
    "All the submissions must be performed through QMPlus, using the appropriate submission system for this assignment -\n",
    "you cannot submit your attempt in any other way! Submissions received through other means, including emails **will not be considered and will score a zero**.\n",
    "Please read through the paragraph below about the submission deadline and the late submission policy.\n",
    "\n",
    "### 1.4 Submission deadline\n",
    "\n",
    "The submission deadline for this coursework is **17:00 UTC on Friday 22 November**.\n",
    "\n",
    "Submissions received after that deadline will be treated in accordance with the College Regulations concerning late submissions. This means that late submissions will incur a penalty of 5% of the total marks for every day of delay (or fraction thereof), up to seven days after the submission deadline. For instance, a submission received with 24 hours of delay will incur a penalty of 10 marks of the 100 available. Any submission received more than 168 hours after the deadline stated above will score a zero.\n",
    "\n",
    "The lecturer will be available to answer reasonable questions about this assignment up until Thursday 21st November 2024. You can contact the lecturer via email at _k.clough@qmul.ac.uk_. If information or tips are given to a student individually, this will then be communicated to the whole cohort via the course announcements, so everyone has the same guidance.\n",
    "\n",
    "### 1.5 Third-party material and plagiarism policy\n",
    "\n",
    "You must work independently on your project, and your submission should include only original material, code and comments, that you have produced by yourself. You are allowed to use any sources (books, internet, Google, etc.) to help you in completing this project, but you must cite them appropriately. The same applies to published code: if you use any publicly available code from a third party, you must cite the source appropriately, and specify what is your original contribution. \n",
    "\n",
    "You can use ChatGPT but I would advise you that those who did in prior years generally got poorer marks, because this course is quite specialised. In particular, ChatGPT does not follow the course coding conventions, and its text answers sounded clever but made no actual physical sense. Use it as an aid, not as a replacement for your own knowledge and judgement.\n",
    "\n",
    "You are allowed to discuss the general approach to a question with your colleagues, but you cannot share your own code with colleagues or reuse code produced by your colleagues for this assignment.\n",
    "\n",
    "Queen Mary University of London has in place a very efficient system for automatic plagiarism detection, which draws on a database of several million books, webpages, research articles, dissertations, and submissions to university-level modules from all over the world. All the material submitted for assessment is automatically processed by this system, which produces a detailed plagiarism report. If I suspect that any of the submitted material is plagiarised, the marks of the corresponding piece of assessment will be withheld until you can demonstrate that the code or material is genuinely your own. Any suspect case of copying or plagiarism will be referred to the School and the College for investigation. The typical outcome of a plagiarism investigation might be the failure of the corresponding piece of assessment, the failure of the module, or even the withdrawal of an awarded title and the expulsion from the College in more serious cases. Please refer to the QMUL Academic Regulations for more information about the definition of plagiarism and the relative penalties: https://arcs.qmul.ac.uk/students/student-appeals/assessment-offences/index.html"
   ]
  },
  {
   "cell_type": "code",
   "execution_count": 26,
   "id": "cb6b9d1d-c4ac-4de7-8bdd-c4e12b673c1d",
   "metadata": {},
   "outputs": [],
   "source": [
    "# first we import the libraries we need\n",
    "import numpy as np\n",
    "import matplotlib.pyplot as plt\n",
    "from scipy.integrate import solve_ivp\n",
    "\n",
    "# The following lines makes the plots appear inline in the notebook\n",
    "%matplotlib inline"
   ]
  },
  {
   "cell_type": "markdown",
   "id": "6238f2b4",
   "metadata": {},
   "source": [
    "## Section 2 : Coursework background\n",
    "\n",
    "This background will also be discussed in the Week 4 lecture, which will be recorded, so you should watch that if you did not attend.\n",
    "\n",
    "### 2.1 Background\n",
    "\n",
    "The broad goal of the project is to write code to model coplanar stellar systems (i.e., all the motion is in the x and y directions) with up to three stars.\n",
    "\n",
    "In our solar system, we have only one star (the Sun!), and this dominates the motion of the other objects (like planets) that exist nearby. However, it is quite common to have two stars in a system, a so called \"binary\" star system, with the stars having a similar size and mass.\n",
    "\n",
    "However, it is very uncommon to have three similar sized stars in a close orbit (although a third can orbit much further out around the first two). Why? As we will see in this coursework, triple systems are subject to chaotic behaviour and will generally not be stable over long periods of time.\n",
    "\n",
    "*You don't really need to know anything about stars to do this coursework, you just need to solve the equations, but it can help to think about the physical system when you do this.*\n",
    "\n",
    "### 2.2 The equations to solve\n",
    "\n",
    "The equations you need to solve are as follows:\n",
    "\n",
    "There are $N$ stars, labelled by an index $i=1,2...N$.\n",
    "\n",
    "The position of star $i$ is $(x_i, y_i)$, its mass is $M_i$. The goal is to solve for the positions of all the $N$ stars as functions of time, given the initial values of each star's position $[x_i,y_i]$ and velocity $\\left[\\frac{dx_i}{dt},\\frac{dy_i}{dt}\\right]$ at $t=0$. However, to solve for any one we will need to know the position of all the other stars - the systems are *coupled*.\n",
    "\n",
    "_(HINT Notice that this is a set of coupled 2nd order ODEs, so we need to apply what we learned in the course about dealing with higher order ODEs. How many dependent variables will we have in the state vector if we have N stars?)_\n",
    "\n",
    "The ODE for the x position of each star is:\n",
    "\n",
    "\\begin{equation}\n",
    "\\frac{d^2 x_i }{ dt^2 } = \\sum^{j=N}_{j=1, j\\neq i} \\frac{G M_j}{r^2_{ij}} \\cos(\\theta)\n",
    "\\end{equation}\n",
    "\n",
    "and for the y position:\n",
    "\n",
    "\\begin{equation}\n",
    "\\frac{d^2 y_i }{ dt^2 } = \\sum^{j=N}_{j=1, j\\neq i} \\frac{G M_j}{r^2_{ij}} \\sin(\\theta)\n",
    "\\end{equation}\n",
    "\n",
    "where \n",
    "\n",
    "$r_{ij} = \\sqrt{(x_i - x_j)^2 + (y_i - y_j)^2}$\n",
    "\n",
    "$\\cos{\\theta} = (x_j - x_i) / r_{ij}$\n",
    "\n",
    "$\\sin{\\theta} = (y_j - y_i) / r_{ij}$\n",
    "\n",
    "\n",
    "### 2.3 Note on units and initial conditions\n",
    "\n",
    "You should set $G=1$, so that you work in units in which the masses of the stars are order 1 numbers, as are the values of $r_{ij}$ (roughly speaking you are choosing the length units to be equal to the mass units). Note that what I call an order 1 number here is anything in the range from 0.1-10!\n",
    "\n",
    "We want our coordinate reference frame to be fixed to the stars' centre of mass, which means that we need to have zero initial net momentum in the system. Taking the binary system for example, initially we should have:\n",
    "\n",
    "$M_1 \\frac{dx_1}{dt} + M_2 \\frac{dx_2}{dt} = 0$\n",
    "\n",
    "$M_1 \\frac{dy_1}{dt} + M_2 \\frac{dy_2}{dt} = 0$\n",
    "\n",
    "This allows us to find the initial velocity of the second star if the first is given.\n",
    "\n",
    "### 2.4 Where do the above equations come from?\n",
    "\n",
    "Let's consider a two body system for simplicity. This is made up of two stars that obey Newton's law of gravitation:\n",
    "\n",
    "$\\vec{F}_{12} = - \\frac{G M_1 ~ M_2 }{r_{12}^2} \\frac{\\vec{r}_{12}}{|\\vec{r}_{12}|}$\n",
    "\n",
    "We also know that Newton's second law is:\n",
    "\n",
    "$\\vec{F} = M \\frac{d^2 \\vec{x}}{dt^2}$\n",
    "    \n",
    "We can treat the $x$ and $y$ components separately so that for the first star, its $x$ position obeys:\n",
    "\n",
    "$ M_1 \\frac{d^2 x_1}{dt^2} = \\frac{G M_1 ~ M_2 }{r_{12}^2} \\cos(\\theta)$\n",
    "\n",
    "Where we have projected the component of the force into the x axis, with $r_{12} = \\sqrt{(x_1 - x_2)^2 + (y_1 - y_2)^2}$ and $\\cos{\\theta} = (x_2 - x_1) / r_{12}$.\n",
    "\n",
    "Note that the mass of the star $M_1$ cancels on both sides (not a conincidence, but a fundamental property of gravity), so we recover the expressions above where the mass of the star itself does not appear in its acceleration (only the masses of the other stars). We can do the same for the other components and the other stars."
   ]
  },
  {
   "cell_type": "markdown",
   "id": "5b733828",
   "metadata": {},
   "source": [
    "## Section 3 : Coursework problems\n",
    "\n",
    "### 3.1 Problem 1: Binary system (45% of marks)\n",
    "\n",
    "Model a two body system made up of two stars undergoing multiple stable orbits. \n",
    "\n",
    "**Required Components**\n",
    "\n",
    "1. The first star should start at position $[x_1,y_1] = [2.0,0.0]$ with velocity $\\left[\\frac{dx_1}{dt},\\frac{dy_1}{dt}\\right] = [0.0,-0.1]$. Put the second star at $[x_1,y_1] = [-2.0,0.0]$ and use the expression above to find its initial velocity so that the stars orbits are fixed with respect to the coordinate axes.\n",
    "\n",
    "2. The mass ratio of the stars should be $M_1/M_2 = 2$ \n",
    "\n",
    "3. You should write one class to represent stars, and another for star systems (don't forget the naming conventions of the course!)\n",
    "\n",
    "4. Provide plots of the trajectories for all the stars, and a phase diagram for the position and velocity of one of the component stars\n",
    "\n",
    "_NB I prefer that you do not provide animations, as these sometimes don't work on different systems and require additional python packages, but if you do you must also provide static plots that illustrate the results. It is an important and useful skill to be able to represent time varying data using static plots._\n",
    "\n",
    "5. Compare two explicit integration techniques - the first should be scipy's solve_ivp() and the second should be the midpoint method (or another Runge Kutta method of specified order)\n",
    "\n",
    "6. For the midpoint/Runge Kutta method, provide a convergence test confirming that the solution converges at the required order\n",
    "\n",
    "7. Give two reasons why it is better to use the midpoint method than Euler's method\n",
    "\n",
    "8. Include defensive programming techniques such as asserts and tests of key functionality\n",
    "\n",
    "9. Provide some documentation of the code implemented in markdown\n",
    "\n",
    "_(HINT 1: you may want to investigate the rtol parameter for solve_ivp() when you show multiple orbits)_\n",
    "\n",
    "_(HINT 2: try to think ahead - what features of problem 1 might you want to reuse in problems 2 and 3? You can save time coding by making it sufficiently general from the start)_"
   ]
  },
  {
   "cell_type": "markdown",
   "id": "692fa0c6",
   "metadata": {},
   "source": [
    "[Add your explanation/discussion of your solution here.]"
   ]
  },
  {
   "cell_type": "code",
   "execution_count": 29,
   "id": "84059595-7a69-4919-b68e-cfe036c0a93e",
   "metadata": {},
   "outputs": [],
   "source": [
    "class Stars:\n",
    "    \"\"\"\n",
    "    Represents a Mass in 3d space\n",
    "    attributes: mass, location, velocity\n",
    "    methods = velocity_change, location_change\n",
    "    \"\"\"\n",
    "    def __init__(self, mass = 1, location = [0,0], velocity = [0,0], accelaration = [0,0]):\n",
    "        self.mass = mass\n",
    "        assert self.mass >= 0, '''Stars can't have negative mass!'''\n",
    "        self.location = location\n",
    "        assert np.array(location).shape == (2,)\n",
    "        self.velocity = velocity\n",
    "        assert np.array(velocity).shape == (2,)\n",
    "        self.accelaration = accelaration\n",
    "        assert np.array(accelration).shape == (2,)\n",
    "\n",
    "\n",
    "    ##IMMEDIATE ISSUE: IF THE SCIPY WILL BE USED THE MASS AND SHIT HAS TO BE UPDATED ALONGSIDE THAT\n",
    "    # ALL THE DERIVATISM HAS TO HAPPEN IN ONE FUNCTION?\n",
    "\n",
    "    def dydt(t,star_1,star_2):\n",
    "        velocity = star_1.velocity[1]\n",
    "        accelaration = star_1.accelaration[1]\n",
    "        dydt = np.zeros_like(star_1.velocity)\n",
    "\n",
    "        r = sqrt(((star_1.location[0]-star_2.location[0])**2)+((star_1.location[1]-star_2.location[1])**2))\n",
    "        cos_theta = (star_1.location[0]-star_2.location[0])/r\n",
    "        sin_theta = (star_1.location[1]-star_2.location[1])/r\n",
    "        \n",
    "        dydt[0] = accelaration\n",
    "        dydt[1] = \n",
    "        \n",
    "        \n",
    "    "
   ]
  },
  {
   "cell_type": "code",
   "execution_count": 10,
   "id": "5fe6f02d-5878-4e25-83f8-c9fd698c748e",
   "metadata": {},
   "outputs": [],
   "source": [
    "class BinaryStarSystems:\n",
    "    \"\"\"\n",
    "    Represents a binary star system influencing itself\n",
    "    attributes: star_1, star_2,\n",
    "    methods: dydt, dxdt, \n",
    "    \"\"\"\n",
    "    def __init__(self,star_1 = Stars(), star_2 = Stars()):\n",
    "        self.star_1 = star_1\n",
    "        assert type(self.star_1) == Stars\n",
    "        self.star_2 = star_2\n",
    "        assert type(self.star_2) == Stars\n",
    "\n"
   ]
  },
  {
   "cell_type": "code",
   "execution_count": 30,
   "id": "9b8f226d-08c4-463e-b7bf-58081e56531e",
   "metadata": {},
   "outputs": [
    {
     "data": {
      "text/plain": [
       "(2,)"
      ]
     },
     "execution_count": 30,
     "metadata": {},
     "output_type": "execute_result"
    }
   ],
   "source": []
  },
  {
   "cell_type": "code",
   "execution_count": 1,
   "id": "fa141fc3",
   "metadata": {},
   "outputs": [],
   "source": [
    "# Your code here"
   ]
  },
  {
   "cell_type": "markdown",
   "id": "3c1bfd77",
   "metadata": {},
   "source": [
    "### 3.2 Problem 2: Triple system  (35% of marks)\n",
    "\n",
    "Model a three body system made up of 3 stars with equal masses. Stars are assumed to be point like objects and so they cannot collide or merge with each other (they simply pass through each other if found at the same location at the same time).\n",
    "\n",
    "**2a) A stable 3 body system**\n",
    "\n",
    "First model the stable solution discovered by Cris Moore and proved by Chenciner and Montgomery, described [here](https://arxiv.org/abs/math/0011268). \n",
    "\n",
    "_(HINT 1: Note that the authors use complex numbers to describe the positions and velocities, so a position of $1 + 3i$ means $[x,y] = [1,3]$)_\n",
    "\n",
    "**Required Components**\n",
    "\n",
    "1. You should use or extend your classes from problem 1\n",
    "\n",
    "2. Provide plots of the trajectories for all stars and a phase diagram for the position and velocity of one of the component stars\n",
    "\n",
    "3. Compare two explicit integration techniques - the first should be scipy's solve_ivp() and the second should be the midpoint method (or another Runge Kutta method of specified order)\n",
    "\n",
    "4. For the midpoint/Runge Kutta method, provide a convergence test confirming that the solution converges at the required order\n",
    "\n",
    "5. Include defensive programming techniques such as asserts and tests of key functionality\n",
    "\n",
    "6. Provide some documentation of the code implemented in markdown"
   ]
  },
  {
   "cell_type": "markdown",
   "id": "20b1764b",
   "metadata": {},
   "source": [
    "[Add your explanation/discussion of your solution here.]"
   ]
  },
  {
   "cell_type": "code",
   "execution_count": 2,
   "id": "26a8afbe",
   "metadata": {},
   "outputs": [],
   "source": [
    "# Your code here"
   ]
  },
  {
   "cell_type": "markdown",
   "id": "90944ec8",
   "metadata": {},
   "source": [
    "**2b) A chaotic 3 body system**\n",
    "\n",
    "Now model one in which the stars display chaotic behaviour, with one star being ejected from the system.\n",
    "\n",
    "1. Provide plots of the trajectories of all the stars and a phase diagram for the position and velocity of one of the component stars, and explain how and why the phase plot differs from the stable system above\n",
    "\n",
    "2. Include defensive programming techniques such as asserts and tests of key functionality\n",
    "\n",
    "3. Provide some documentation of the code implemented in markdown\n",
    "\n",
    "_(HINT: For the initial conditions, you could start with the stable values and gradially change them until the system becomes unstable.)_"
   ]
  },
  {
   "cell_type": "markdown",
   "id": "d98d479e",
   "metadata": {},
   "source": [
    "[Add your explanation/discussion of your solution here.]"
   ]
  },
  {
   "cell_type": "code",
   "execution_count": 3,
   "id": "aaeb3e46",
   "metadata": {},
   "outputs": [],
   "source": [
    "# Your code here"
   ]
  },
  {
   "cell_type": "markdown",
   "id": "ea817730",
   "metadata": {},
   "source": [
    "### 3.2 Problem 3: Triple hypergiant system  (20% of marks)\n",
    "\n",
    "Model a triple system of hypergiants. Hypergiants are the most massive stars, and so they cannot be treated as point like objects. Now if they get within some user-specified distance of each other, they should merge into a single hypergiant with a combined mass of the two objects:\n",
    "\n",
    "$M_{new} = M_1 + M_2$\n",
    "\n",
    "The new star position should be set as the midpoint of the centres of the stars that merged, and (since momentum is conserved) we will also require that:\n",
    "\n",
    "$(M_1 + M_2)\\frac{dx_{new}}{dt} = M_1 \\frac{dx_1}{dt} + M_2 \\frac{dx_2}{dt}$\n",
    "\n",
    "$(M_1 + M_2)\\frac{dy_{new}}{dt} = M_1 \\frac{dy_1}{dt} + M_2 \\frac{dy_2}{dt}$\n",
    "    \n",
    "\n",
    "**Required Components**\n",
    "\n",
    "1. The three hypergiants should have masses in the ratio of 0.8 : 1.0 : 1.2\n",
    "\n",
    "2. You should make a hypergiant class that *inherits* from the star class. What extra attribute(s) and methods should it have? Implement them. One of these should provide an `__add__` function to manage the merger of two hypergiants.\n",
    "\n",
    "3. Include defensive programming techniques such as asserts and tests of key functionality\n",
    "\n",
    "4. Provide some documentation of the code implemented in markdown\n",
    "\n",
    "_(HINT 1: For this problem it is usually easier to use your own midpoint/Runge Kutta method and not `solve_ivp()`, as it allows you more control over the merging process)_\n"
   ]
  },
  {
   "cell_type": "markdown",
   "id": "f95be041",
   "metadata": {},
   "source": [
    "[Add your explanation/discussion of your solution here.]"
   ]
  },
  {
   "cell_type": "code",
   "execution_count": 4,
   "id": "cf569743",
   "metadata": {},
   "outputs": [],
   "source": [
    "# Your code here"
   ]
  }
 ],
 "metadata": {
  "kernelspec": {
   "display_name": "Python 3 (ipykernel)",
   "language": "python",
   "name": "python3"
  },
  "language_info": {
   "codemirror_mode": {
    "name": "ipython",
    "version": 3
   },
   "file_extension": ".py",
   "mimetype": "text/x-python",
   "name": "python",
   "nbconvert_exporter": "python",
   "pygments_lexer": "ipython3",
   "version": "3.12.6"
  }
 },
 "nbformat": 4,
 "nbformat_minor": 5
}
