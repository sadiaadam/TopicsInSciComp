{
 "cells": [
  {
   "cell_type": "markdown",
   "id": "3577ed35",
   "metadata": {},
   "source": [
    "<table width=100%>\n",
    "    <tr>\n",
    "        <td width = 40% align = \"left\">\n",
    "            <h3> MTH786 Machine Learning with Python</h3>\n",
    "        </td>\n",
    "        <td width = 35%>            \n",
    "        </td>\n",
    "        <td width = 25% align = \"left\">\n",
    "            <h3>Semester A, 2024/2025 </h3>\n",
    "        </td>\n",
    "    </tr>\n",
    "    <tr>\n",
    "        <td width = 40% align = \"left\">\n",
    "            <h3> Lab Coursework 4</h3>\n",
    "        </td>\n",
    "        <td width = 35%>            \n",
    "        </td>\n",
    "        <td width = 25% align = \"left\">\n",
    "            <h3>Dr Nicola Perra </h3>\n",
    "        </td>\n",
    "    </tr>\n",
    "</table>"
   ]
  },
  {
   "cell_type": "markdown",
   "id": "f93a6ea9",
   "metadata": {},
   "source": [
    "We start by loading necessary libraries, including NumPy (used for linear algebra calculations) and MatPlotLib (used for visualisation)."
   ]
  },
  {
   "cell_type": "code",
   "execution_count": 1,
   "id": "ad8890b4",
   "metadata": {},
   "outputs": [],
   "source": [
    "import numpy as np\n",
    "import matplotlib.pyplot as plt\n",
    "%matplotlib inline"
   ]
  },
  {
   "cell_type": "markdown",
   "id": "d9f733fd",
   "metadata": {},
   "source": [
    "### Linear regression\n",
    "By completing this exercise you will write a set of functions that are used for building a linear regression for a given data samples. You will then finish by calculating a linear regression for a height-weight dataset. \n",
    "\n",
    "\n",
    "1. Implement function **linear_regression_data** that computes (and outputs) the linear regression data matrix defined as\n",
    "\n",
    "$\\mathbf{X} = \n",
    "\\begin{pmatrix}\n",
    "1 & x^{(1)}_1 & x^{(1)}_2 & \\ldots & x^{(1)}_d \\\\\n",
    "1 & x^{(2)}_1 & x^{(2)}_2 & \\ldots & x^{(2)}_d \\\\\n",
    "\\vdots & \\vdots & \\vdots & \\ddots & \\vdots & \\\\\n",
    "1 & x^{(s)}_1 & x^{(s)}_2 & \\ldots & x^{(s)}_d \\\\\n",
    "\\end{pmatrix}$\n",
    "\r\n",
    "\n",
    "\n",
    "The function **linear_regression_data**  should take the NumPy array *data_inputs* as argument. Here, *data_inputs* is supposed to be a data matrix containing all inputs in the matrix form as follow\n",
    "s\n",
    "data\\_inputs = $\n",
    "\\begin{pmatrix}\n",
    "x^{(1)}_1 & x^{(1)}_2 & \\ldots & x^{(1)}_d \\\\\n",
    "x^{(2)}_1 & x^{(2)}_2 & \\ldots & x^{(2)}_d \\\\\n",
    "\\vdots & \\vdots & \\ddots & \\vdots & \\\\\n",
    "x^{(s)}_1 & x^{(s)}_2 & \\ldots & x^{(s)}_d \\\\\n",
    "\\end{pmatrix}\n",
    "$\n",
    "\n",
    "The function should output data matrix $\\mathbf{X}$."
   ]
  },
  {
   "cell_type": "code",
   "execution_count": null,
   "id": "ee797f49",
   "metadata": {},
   "outputs": [],
   "source": [
    "def linear_regression_data(data_inputs):\n",
    "    # write your code here\n",
    "    # What we essentially need to do is move each part and ammend a part"
   ]
  },
  {
   "cell_type": "code",
   "execution_count": 35,
   "id": "91ee7259-c5c3-4e08-8426-af7c0bfb24a8",
   "metadata": {},
   "outputs": [
    {
     "name": "stdout",
     "output_type": "stream",
     "text": [
      "[[1, [1, 2, 2]], [1, [2, 2, 2]], [1, [3, 2, 2]], [1, [4, 2, 2]]]\n"
     ]
    }
   ],
   "source": [
    "test_outputs = []\n",
    "# Only works for 1, 1\n",
    "for i, input in enumerate(list(test_inputs)):\n",
    "    list_from_array = test_inputs[i].tolist() # getting individual rows in a list\n",
    "    l = [1]\n",
    "    for val, inpu in enumerate(list_from_array): #the main problem here essentially is that i need to download the entire row\n",
    "        l.append(list_from_array[val])\n",
    "        test_outputs.append(l)\n",
    "        #doubles the values for no reason\n",
    "print(test_outputs)"
   ]
  },
  {
   "cell_type": "markdown",
   "id": "f4c52252",
   "metadata": {},
   "source": [
    "Test your function with the following unit tests"
   ]
  },
  {
   "cell_type": "code",
   "execution_count": 31,
   "id": "f72ca362",
   "metadata": {},
   "outputs": [
    {
     "ename": "NameError",
     "evalue": "name 'linear_regression_data' is not defined",
     "output_type": "error",
     "traceback": [
      "\u001b[1;31m---------------------------------------------------------------------------\u001b[0m",
      "\u001b[1;31mNameError\u001b[0m                                 Traceback (most recent call last)",
      "Cell \u001b[1;32mIn[31], line 3\u001b[0m\n\u001b[0;32m      1\u001b[0m \u001b[38;5;28;01mfrom\u001b[39;00m \u001b[38;5;21;01mnumpy\u001b[39;00m\u001b[38;5;21;01m.\u001b[39;00m\u001b[38;5;21;01mtesting\u001b[39;00m \u001b[38;5;28;01mimport\u001b[39;00m assert_array_almost_equal, assert_array_equal\n\u001b[0;32m      2\u001b[0m test_inputs \u001b[38;5;241m=\u001b[39m np\u001b[38;5;241m.\u001b[39marray([[\u001b[38;5;241m1\u001b[39m,\u001b[38;5;241m2\u001b[39m,\u001b[38;5;241m2\u001b[39m], [\u001b[38;5;241m2\u001b[39m,\u001b[38;5;241m2\u001b[39m,\u001b[38;5;241m2\u001b[39m], [\u001b[38;5;241m3\u001b[39m,\u001b[38;5;241m2\u001b[39m,\u001b[38;5;241m2\u001b[39m], [\u001b[38;5;241m4\u001b[39m,\u001b[38;5;241m2\u001b[39m,\u001b[38;5;241m2\u001b[39m]])\n\u001b[1;32m----> 3\u001b[0m assert_array_equal(\u001b[43mlinear_regression_data\u001b[49m(test_inputs), np\u001b[38;5;241m.\u001b[39marray([[\u001b[38;5;241m1\u001b[39m, \u001b[38;5;241m1\u001b[39m], [\u001b[38;5;241m1\u001b[39m, \u001b[38;5;241m2\u001b[39m], [\u001b[38;5;241m1\u001b[39m, \u001b[38;5;241m3\u001b[39m], [\u001b[38;5;241m1\u001b[39m, \u001b[38;5;241m4\u001b[39m]]))\n",
      "\u001b[1;31mNameError\u001b[0m: name 'linear_regression_data' is not defined"
     ]
    }
   ],
   "source": [
    "from numpy.testing import assert_array_almost_equal, assert_array_equal\n",
    "test_inputs = np.array([[1,2,2], [2,2,2], [3,2,2], [4,2,2]])\n",
    "assert_array_equal(linear_regression_data(test_inputs), np.array([[1, 1], [1, 2], [1, 3], [1, 4]]))"
   ]
  },
  {
   "cell_type": "code",
   "execution_count": null,
   "id": "57ce43ff",
   "metadata": {},
   "outputs": [],
   "source": [
    "test_inputs = np.array([[1, 2], [2, 3], [3, 4], [4, 5]])\n",
    "assert_array_equal(linear_regression_data(test_inputs), np.array([[1, 1, 2], [1, 2, 3], [1, 3, 4], [1, 4, 5]]))"
   ]
  },
  {
   "cell_type": "markdown",
   "id": "84122967",
   "metadata": {},
   "source": [
    "Try your function with this random samples"
   ]
  },
  {
   "cell_type": "code",
   "execution_count": 37,
   "id": "0e1336c4",
   "metadata": {},
   "outputs": [
    {
     "name": "stdout",
     "output_type": "stream",
     "text": [
      "4 28\n",
      "[[0.54451482 0.4467211  0.24814938 0.63011869 0.69870061 0.55129158\n",
      "  0.67576014 0.65751694 0.50438672 0.25759883 0.19815933 0.52320788\n",
      "  0.63235457 0.87804158 0.26267398 0.05710484 0.59915057 0.18157977\n",
      "  0.80456604 0.85620357 0.42720659 0.68604112 0.44477436 0.36082578\n",
      "  0.86078096 0.83101824 0.82430298 0.56348726]\n",
      " [0.92774129 0.4228738  0.72391653 0.32053925 0.10527863 0.41661683\n",
      "  0.6065455  0.82695858 0.48243196 0.32950455 0.18707709 0.34213002\n",
      "  0.77206408 0.34212365 0.94257468 0.76944695 0.39834961 0.25897992\n",
      "  0.26323437 0.21745082 0.44077275 0.07985086 0.64932092 0.82354801\n",
      "  0.66516996 0.74888849 0.69816608 0.11522056]\n",
      " [0.69200968 0.28816869 0.55909858 0.96207591 0.37373406 0.55186265\n",
      "  0.35149751 0.88267854 0.11564565 0.40998595 0.21920315 0.48463337\n",
      "  0.60949111 0.4827182  0.99398683 0.83471696 0.52974145 0.13515898\n",
      "  0.99708881 0.13808731 0.89014163 0.26430687 0.6484309  0.92136747\n",
      "  0.73074072 0.33834117 0.11034927 0.57293592]\n",
      " [0.5427838  0.1236927  0.22892623 0.54416037 0.81017422 0.71428736\n",
      "  0.4537331  0.30323809 0.88457233 0.1791034  0.9850671  0.51200376\n",
      "  0.34419753 0.17699149 0.522177   0.38915627 0.59198442 0.82377853\n",
      "  0.61925498 0.26961369 0.81998104 0.67775877 0.18888785 0.38372929\n",
      "  0.23707742 0.21629876 0.69871127 0.10108719]]\n"
     ]
    }
   ],
   "source": [
    "samples, dimensions = np.random.randint(low = 2, high = 100,size = 2)\n",
    "test_inputs = np.random.rand(samples, dimensions)\n",
    "\n",
    "print (samples,dimensions)\n",
    "print (test_inputs)\n",
    "# write your code here"
   ]
  },
  {
   "cell_type": "markdown",
   "id": "c7a0bd29",
   "metadata": {},
   "source": [
    "2. Write a function **linear_regression** that takes two arguments *data_matrix* and *data_outputs*, which computes and returns the solution $\\hat{\\mathbf{W}}$ of the normal equation\n",
    "$$\n",
    "\\mathbf{X}^{\\top}\\mathbf{X} \\hat{\\mathbf{W}} = \\mathbf{X}^{\\top}\\mathbf{Y}\n",
    "$$\n",
    "Here $\\mathbf{X}$  is the mathematical representation of *data_matrix*\n",
    "and $\\mathbf{Y}$ is the mathematical representation of *data_outputs*, while $\\hat{\\mathbf{W}}$ is a mathematical representation for weights/coefficients of the linear regression.\n",
    "\n",
    "**Hint**: you the function np.linalg.solve\n",
    "https://numpy.org/doc/stable/reference/generated/numpy.linalg.solve.html"
   ]
  },
  {
   "cell_type": "code",
   "execution_count": null,
   "id": "89c59024",
   "metadata": {},
   "outputs": [],
   "source": [
    "def linear_regression(data_matrix, data_outputs):\n",
    "    # write your code here"
   ]
  },
  {
   "cell_type": "markdown",
   "id": "f5d91739",
   "metadata": {},
   "source": [
    "Test your function with the following unit tests"
   ]
  },
  {
   "cell_type": "code",
   "execution_count": null,
   "id": "4e0668bb",
   "metadata": {},
   "outputs": [],
   "source": [
    "test_data_matrix = np.array([[1,0.5],[1,1.5]])\n",
    "test_outputs = np.array([[1],[1]])\n",
    "assert_array_almost_equal(linear_regression(test_data_matrix, test_outputs), np.array([[1], [0]]))"
   ]
  },
  {
   "cell_type": "code",
   "execution_count": null,
   "id": "80f2fd97",
   "metadata": {},
   "outputs": [],
   "source": [
    "test_data_matrix = np.array([[1,0.98],[1,1.02]])\n",
    "test_outputs = np.array([[-0.1],[0.3]])\n",
    "assert_array_almost_equal(linear_regression(test_data_matrix, test_outputs), np.array([[-9.9], [10]]))"
   ]
  },
  {
   "cell_type": "markdown",
   "id": "6ae1a47b",
   "metadata": {},
   "source": [
    "Try your code with this random data"
   ]
  },
  {
   "cell_type": "code",
   "execution_count": null,
   "id": "712f2e3f",
   "metadata": {},
   "outputs": [],
   "source": [
    "samples, dimensions, output_dimensions = np.random.randint(low = 2, high = 100,size = 3)\n",
    "test_inputs = np.random.rand(samples, dimensions)\n",
    "test_outputs = np.random.rand(samples, output_dimensions)\n",
    "\n",
    "print (samples, dimensions, output_dimensions)\n",
    "print (test_inputs)\n",
    "print ('--')\n",
    "print (test_outputs)"
   ]
  },
  {
   "cell_type": "markdown",
   "id": "e5bc0be7",
   "metadata": {},
   "source": [
    "3. Write a function **prediction_error** that evaluates a mean-squared error over the set of data inputs and outputs. The function **prediction_error** takes the arguments _data_matrix_, _data_ouputs_ and _weights_ as inputs and returns a mean squared error defined by\n",
    "$$\n",
    "\\mathrm{MSE} = \\frac{1}{2s} \\left\\|\\mathbf{X}\\mathbf{W} - \\mathbf{Y} \\right\\|^2,\n",
    "$$\n",
    "where $\\mathbf{X}$ is a mathematical representation of _data_matrix_, $\\mathbf{Y}$ is a mathematical representation of _data_outputs_ and $\\mathbf{W}$ is a mathematical representation of _weights_."
   ]
  },
  {
   "cell_type": "code",
   "execution_count": null,
   "id": "cc3ddf64",
   "metadata": {},
   "outputs": [],
   "source": [
    "def prediction_error(data_matrix,data_outputs,weights):\n",
    "    # YOUR CODE HERE"
   ]
  },
  {
   "cell_type": "markdown",
   "id": "6dd508f4",
   "metadata": {},
   "source": [
    "Test your function with the following unit tests"
   ]
  },
  {
   "cell_type": "code",
   "execution_count": null,
   "id": "2425c3fd",
   "metadata": {},
   "outputs": [],
   "source": [
    "test_data_matrix = np.array([[1,0.98],[1,1.02]])\n",
    "test_data_outputs = np.array([[-0.1],[0.3]])\n",
    "test_weights = np.array([[-9.9],[10]])\n",
    "assert_array_almost_equal(prediction_error(test_data_matrix, test_data_outputs, test_weights), 0)"
   ]
  },
  {
   "cell_type": "code",
   "execution_count": null,
   "id": "9785c70d",
   "metadata": {},
   "outputs": [],
   "source": [
    "test_data_matrix = np.array([[1,1,-1],[1,2,2]])\n",
    "test_data_outputs = np.array([[-1,2],[1,3]])\n",
    "test_weights = np.array([[0,0],[1,2],[3,4]])\n",
    "assert_array_almost_equal(prediction_error(test_data_matrix, test_data_outputs, test_weights), 36.75)"
   ]
  },
  {
   "cell_type": "markdown",
   "id": "18bd603c",
   "metadata": {},
   "source": [
    "4. In the next two parts we apply the above to height-weight-gender data, considered in the lectures. Our goal is to build a linear regression for a weight as a function of height or height and gender. We start by reading the data from attached .csv file.   **Important:** please check that the file *height_weight_genders.csv* is located in the same folder with your Jupyter notebook."
   ]
  },
  {
   "cell_type": "code",
   "execution_count": null,
   "id": "a29b3df7",
   "metadata": {},
   "outputs": [],
   "source": [
    "converter_function=lambda x: 0 if b\"Male\" in x else 1\n",
    "genders = np.genfromtxt(\"height_weight_genders.csv\", delimiter=\",\", skip_header=1, usecols=[0], \\\n",
    "                        converters={0:converter_function})\n",
    "heights = np.genfromtxt(\"height_weight_genders.csv\", delimiter=\",\", skip_header=1, usecols=[1])\n",
    "weights = np.genfromtxt(\"height_weight_genders.csv\", delimiter=\",\", skip_header=1, usecols=[2])\n",
    "\n",
    "print (genders)\n",
    "print (heights)\n",
    "print (weights)"
   ]
  },
  {
   "cell_type": "markdown",
   "id": "94fec63d",
   "metadata": {},
   "source": [
    "Let us first build a scatter plot of weight-height data (excluding gender)."
   ]
  },
  {
   "cell_type": "code",
   "execution_count": null,
   "id": "42ff2eee",
   "metadata": {},
   "outputs": [],
   "source": [
    "# YOUR CODE HERE"
   ]
  },
  {
   "cell_type": "markdown",
   "id": "454031ba",
   "metadata": {},
   "source": [
    "In the next cell you use the functions defined above to find optimal regression weights. You then asked to evaluate your training error and plot a linear regression together with the scatter plot above."
   ]
  },
  {
   "cell_type": "code",
   "execution_count": null,
   "id": "ae45a73e",
   "metadata": {},
   "outputs": [],
   "source": [
    "# YOUR CODE HERE"
   ]
  },
  {
   "cell_type": "markdown",
   "id": "2cbf5b54",
   "metadata": {},
   "source": [
    "Test your results with the following unit tests"
   ]
  },
  {
   "cell_type": "code",
   "execution_count": null,
   "id": "ff0fe31f",
   "metadata": {},
   "outputs": [],
   "source": [
    "assert_array_almost_equal(regression_weights,np.array([-350.737192, 7.717288]))"
   ]
  },
  {
   "cell_type": "markdown",
   "id": "f4f2f6a7",
   "metadata": {},
   "source": [
    "Print the prediction error below"
   ]
  },
  {
   "cell_type": "code",
   "execution_count": null,
   "id": "c5c56876",
   "metadata": {},
   "outputs": [],
   "source": [
    "# WRITE YOUR CODE HERE"
   ]
  },
  {
   "cell_type": "markdown",
   "id": "5d6af11a",
   "metadata": {},
   "source": [
    "Add a plot of linear regression (in red color) to the above scatter plot."
   ]
  },
  {
   "cell_type": "code",
   "execution_count": null,
   "id": "f3dce11b",
   "metadata": {},
   "outputs": [],
   "source": [
    "# YOUR CODE HERE"
   ]
  },
  {
   "cell_type": "markdown",
   "id": "995257e8",
   "metadata": {},
   "source": [
    "6. In this part we include gender parameter to our linear regression. This means that now you are predicting a weight of the person by using his/her height and gender data. As before we start with the scatter plot, which is now a 3D one."
   ]
  },
  {
   "cell_type": "code",
   "execution_count": null,
   "id": "0c50a39d",
   "metadata": {},
   "outputs": [],
   "source": [
    "# YOUR CODE HERE"
   ]
  },
  {
   "cell_type": "markdown",
   "id": "f3f423f2",
   "metadata": {},
   "source": [
    "In the next cell you use the functions defined above to find optimal regression weights. You then asked to evaluate your training error and plot a linear regression together with the scatter plot above."
   ]
  },
  {
   "cell_type": "code",
   "execution_count": 2,
   "id": "4c6dfc43",
   "metadata": {},
   "outputs": [],
   "source": [
    "# YOUR CODE HERE"
   ]
  },
  {
   "cell_type": "markdown",
   "id": "065e8b11",
   "metadata": {},
   "source": [
    "Test your function with the following unit tests"
   ]
  },
  {
   "cell_type": "code",
   "execution_count": null,
   "id": "c3a9f9aa",
   "metadata": {},
   "outputs": [],
   "source": [
    "assert_array_almost_equal(regression_weights,np.array([-225.545792,    5.976941,  -19.377711]))"
   ]
  },
  {
   "cell_type": "markdown",
   "id": "f39601a3",
   "metadata": {},
   "source": [
    "What is the prediction error?"
   ]
  },
  {
   "cell_type": "code",
   "execution_count": 3,
   "id": "ba72c002",
   "metadata": {},
   "outputs": [],
   "source": [
    "# WRITE YOUR CODE HERE"
   ]
  },
  {
   "cell_type": "code",
   "execution_count": null,
   "id": "e562675a",
   "metadata": {},
   "outputs": [],
   "source": []
  }
 ],
 "metadata": {
  "kernelspec": {
   "display_name": "Python 3 (ipykernel)",
   "language": "python",
   "name": "python3"
  },
  "language_info": {
   "codemirror_mode": {
    "name": "ipython",
    "version": 3
   },
   "file_extension": ".py",
   "mimetype": "text/x-python",
   "name": "python",
   "nbconvert_exporter": "python",
   "pygments_lexer": "ipython3",
   "version": "3.12.6"
  }
 },
 "nbformat": 4,
 "nbformat_minor": 5
}
